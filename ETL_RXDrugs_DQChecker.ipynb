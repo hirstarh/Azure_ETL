{
 "cells": [
  {
   "cell_type": "code",
   "execution_count": 0,
   "metadata": {
    "application/vnd.databricks.v1+cell": {
     "cellMetadata": {
      "byteLimit": 2048000,
      "implicitDf": true,
      "rowLimit": 10000
     },
     "inputWidgets": {},
     "nuid": "1ac45e68-9ebd-4b39-a6cb-ee2b019180e0",
     "showTitle": false,
     "tableResultSettingsMap": {},
     "title": ""
    }
   },
   "outputs": [],
   "source": [
    "%sql\n",
    "\n",
    "/*CREATE CATALOG RX_DRUGS\n",
    "MANAGED LOCATION 'abfss://rx-drugs-processed@rxdrugs.dfs.core.windows.net';\n",
    "CREATE SCHEMA RX_DRUGS.RxDrugs\n",
    "GRANT USAGE ON SCHEMA RX_DRUGS.RxDrugs TO `andrewh@arhsvcs.com`\n",
    "*/\n",
    "\n"
   ]
  },
  {
   "cell_type": "code",
   "execution_count": 0,
   "metadata": {
    "application/vnd.databricks.v1+cell": {
     "cellMetadata": {
      "byteLimit": 2048000,
      "rowLimit": 10000
     },
     "inputWidgets": {},
     "nuid": "2c89a192-bf83-4961-ac30-09cd54a21886",
     "showTitle": false,
     "tableResultSettingsMap": {},
     "title": ""
    }
   },
   "outputs": [],
   "source": [
    "from pyspark.sql import SparkSession\n",
    "\n",
    "container = \"rx-drugs-processed\"\n",
    "storage_Account = \"rxdrugs\"\n",
    "file_path =f'abfss://{container}@{storage_Account}.dfs.core.windows.net/RX-Drugs.csv'\n",
    "\n",
    "df = spark.read.csv(file_path,header=True, inferSchema=True)\n",
    "df.display()\n",
    "##wasbs://rx-drugs-processed@rxdrugs.blob.core.windows.net"
   ]
  },
  {
   "cell_type": "code",
   "execution_count": 0,
   "metadata": {
    "application/vnd.databricks.v1+cell": {
     "cellMetadata": {
      "byteLimit": 2048000,
      "rowLimit": 10000
     },
     "inputWidgets": {},
     "nuid": "f77372fc-e66a-49fa-bac8-30bd6c9a415a",
     "showTitle": false,
     "tableResultSettingsMap": {},
     "title": ""
    }
   },
   "outputs": [],
   "source": [
    "from pyspark.sql.functions import col, sum, when\n",
    "from datetime import datetime\n",
    "\n",
    "DataQualityFlag = True\n",
    "\n",
    "##checking for nulls in columns\n",
    "print(\"Table below shows the number of nulls in each column\")\n",
    "null_counts = df.select(\n",
    "    [sum(when(col(c).isNull(), 1).otherwise(0)).alias(c) for c in df.columns]\n",
    ")\n",
    "DataQualityFlag = False if null_counts.count() > 0 else True\n",
    "null_counts.display()\n",
    "\n",
    "##Now check for none intergers in the TotalCost column\n",
    "non_integer_totalcost = df.filter(~col(\"TotalCost\").cast(\"int\").isNotNull())\n",
    "if non_integer_totalcost.count() > 0:\n",
    "    print(\"There are non-integer values in the TotalCost column\")\n",
    "    non_integer_totalcost.select(\"TotalCost\").display()\n",
    "    DataQualityFlag = False\n",
    "else:\n",
    "    print(\"Checked - All entries in the TotalCost are integers\")\n",
    "##Write to Databricks catalog if Data Quality Check fails\n",
    "df.write.mode(\"overwrite\").saveAsTable(\n",
    "    \"RX_Drugs.RxDrugs.RejRXTable\"\n",
    ") if DataQualityFlag == False else print(\"Data Quality Check Passed\")\n",
    "\n",
    "#Replace NULLS if the name of the column stating that no data entered for that record.\n",
    "replacement_Values = {col: f'{col} is not stated for this record' for col in df.columns}\n",
    "df_filled = df.fillna(replacement_Values)\n",
    "df_filled.display()\n",
    "\n",
    "#Save cleansed table to the catalog.\n",
    "current_datetime = datetime.now()\n",
    "formatted_datetime = current_datetime.strftime(\"%Y%m%d_%H%M%S\")\n",
    "table_name = f\"RX_DRUGS.RxDrugs.cleansedRXTable_{formatted_datetime}\"\n",
    "\n",
    "df_filled.write.mode(\"overwrite\").saveAsTable(table_name)\n",
    "\n"
   ]
  },
  {
   "cell_type": "code",
   "execution_count": 0,
   "metadata": {
    "application/vnd.databricks.v1+cell": {
     "cellMetadata": {
      "byteLimit": 2048000,
      "rowLimit": 10000
     },
     "inputWidgets": {},
     "nuid": "31f2b144-078f-4cff-a349-5d5d8336fadf",
     "showTitle": false,
     "tableResultSettingsMap": {},
     "title": ""
    }
   },
   "outputs": [],
   "source": []
  }
 ],
 "metadata": {
  "application/vnd.databricks.v1+notebook": {
   "computePreferences": null,
   "dashboards": [],
   "environmentMetadata": {
    "base_environment": "",
    "environment_version": "2"
   },
   "inputWidgetPreferences": null,
   "language": "python",
   "notebookMetadata": {
    "mostRecentlyExecutedCommandWithImplicitDF": {
     "commandId": 6815602655887697,
     "dataframes": [
      "_sqldf"
     ]
    },
    "pythonIndentUnit": 4
   },
   "notebookName": "ETL_RXDrugs_DQChecker",
   "widgets": {}
  },
  "language_info": {
   "name": "python"
  }
 },
 "nbformat": 4,
 "nbformat_minor": 0
}
